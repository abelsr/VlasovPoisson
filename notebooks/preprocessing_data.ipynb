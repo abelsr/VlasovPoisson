{
 "cells": [
  {
   "cell_type": "markdown",
   "id": "b123f632",
   "metadata": {},
   "source": [
    "# Preprocesamiento de datos"
   ]
  },
  {
   "cell_type": "code",
   "execution_count": 17,
   "id": "9dbed916",
   "metadata": {},
   "outputs": [],
   "source": [
    "from pathlib import Path\n",
    "\n",
    "import numpy as np\n",
    "import pandas as pd\n",
    "import matplotlib.pyplot as plt"
   ]
  },
  {
   "cell_type": "code",
   "execution_count": 18,
   "id": "402fc479",
   "metadata": {},
   "outputs": [
    {
     "name": "stdout",
     "output_type": "stream",
     "text": [
      "Data shape: (17, 256, 256, 256, 2)\n"
     ]
    }
   ],
   "source": [
    "data_np_path = Path('/home/ia/asantillan/Proyects/VlasovPoisson/vlasov_dataset.npy')\n",
    "data = np.load(data_np_path)\n",
    "print(f\"Data shape: {data.shape}\")"
   ]
  },
  {
   "cell_type": "code",
   "execution_count": 19,
   "id": "7eb04732",
   "metadata": {},
   "outputs": [
    {
     "name": "stdout",
     "output_type": "stream",
     "text": [
      "Z value pairs: [(127, 126), (126, 125), (125, 100), (100, 75), (75, 50), (50, 25), (25, 10), (10, 5), (5, 4), (4, 3), (3, 2), (2, 1), (1, 0.75), (0.75, 0.5), (0.5, 0.25), (0.25, 0.1), (0.1, 0)]\n"
     ]
    }
   ],
   "source": [
    "z_values = [127,126,125,100,75,50,25,10,5,4,3,2,1,0.75,0.5,0.25,0.1,0]\n",
    "z_values_pairs = [(z_values[i], z_values[i+1]) for i in range(len(z_values)-1)]\n",
    "print(f\"Z value pairs: {z_values_pairs}\")"
   ]
  },
  {
   "cell_type": "code",
   "execution_count": 31,
   "id": "daa2cdc4",
   "metadata": {},
   "outputs": [],
   "source": [
    "# Versión alternativa más eficiente usando broadcasting:\n",
    "# (Descomenta si prefieres esta versión)\n",
    "\n",
    "# Convertir z_values_pairs a array numpy para facilitar el manejo\n",
    "z_array = np.array(z_values_pairs)  # Shape: (17, 2)\n",
    "z0_values = z_array[:, 0]  # Shape: (17,)\n",
    "z1_values = z_array[:, 1]  # Shape: (17,)\n",
    "\n",
    "# Crear grillas usando broadcasting (más eficiente en memoria) con valor de z0 y z1 constantes\n",
    "z0_expanded = z0_values[:, np.newaxis, np.newaxis, np.newaxis, np.newaxis]  # (17, 1, 1, 1, 1)\n",
    "z1_expanded = z1_values[:, np.newaxis, np.newaxis, np.newaxis, np.newaxis]  # (17, 1, 1, 1, 1)\n",
    "\n",
    "# Usar broadcast_to para crear las grillas (no copia memoria hasta que sea necesario)\n",
    "z0_grids_broadcast = np.broadcast_to(z0_expanded, (17, 256, 256, 256, 1, ))\n",
    "z1_grids_broadcast = np.broadcast_to(z1_expanded, (17, 256, 256, 256, 1, ))\n",
    "\n",
    "# Concatenar\n",
    "data_extended_broadcast = np.concatenate([data, z0_grids_broadcast, z1_grids_broadcast], axis=-1)\n",
    "data_extended_broadcast = data_extended_broadcast.astype(np.float32)"
   ]
  },
  {
   "cell_type": "code",
   "execution_count": 33,
   "id": "9858a27f",
   "metadata": {},
   "outputs": [
    {
     "name": "stdout",
     "output_type": "stream",
     "text": [
      "Extended data shape (broadcast): (17, 256, 256, 256, 4) and type: float32\n"
     ]
    }
   ],
   "source": [
    "print(f\"Extended data shape (broadcast): {data_extended_broadcast.shape} and type: {data_extended_broadcast.dtype}\")\n",
    "np.save('/home/ia/asantillan/Proyects/VlasovPoisson/vlasov_dataset_with_z_values.npy', data_extended_broadcast)"
   ]
  }
 ],
 "metadata": {
  "kernelspec": {
   "display_name": "VlasovPoisson (3.12.9)",
   "language": "python",
   "name": "python3"
  },
  "language_info": {
   "codemirror_mode": {
    "name": "ipython",
    "version": 3
   },
   "file_extension": ".py",
   "mimetype": "text/x-python",
   "name": "python",
   "nbconvert_exporter": "python",
   "pygments_lexer": "ipython3",
   "version": "3.12.9"
  }
 },
 "nbformat": 4,
 "nbformat_minor": 5
}
