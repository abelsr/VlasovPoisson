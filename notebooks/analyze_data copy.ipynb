{
 "cells": [
  {
   "cell_type": "markdown",
   "id": "575f9ef9",
   "metadata": {},
   "source": [
    "# Análisis de datos Vlasov Poisson"
   ]
  },
  {
   "cell_type": "code",
   "execution_count": 16,
   "id": "d5da8958",
   "metadata": {},
   "outputs": [],
   "source": [
    "from pathlib import Path\n",
    "\n",
    "import numpy as np\n",
    "import pandas as pd\n",
    "import seaborn as sns\n",
    "from natsort import natsorted\n",
    "import matplotlib.pyplot as plt\n",
    "# from sklearn import preprocessing"
   ]
  },
  {
   "cell_type": "code",
   "execution_count": 21,
   "id": "844515ab",
   "metadata": {},
   "outputs": [
    {
     "data": {
      "text/plain": [
       "[PosixPath('/trabajo/FNOs/gad_64/gadget1/delta_z0p0000.npy'),\n",
       " PosixPath('/trabajo/FNOs/gad_64/gadget1/delta_z0p2286.npy'),\n",
       " PosixPath('/trabajo/FNOs/gad_64/gadget1/delta_z0p5095.npy'),\n",
       " PosixPath('/trabajo/FNOs/gad_64/gadget1/delta_z0p8546.npy'),\n",
       " PosixPath('/trabajo/FNOs/gad_64/gadget1/delta_z1p2787.npy'),\n",
       " PosixPath('/trabajo/FNOs/gad_64/gadget1/delta_z1p7996.npy'),\n",
       " PosixPath('/trabajo/FNOs/gad_64/gadget1/delta_z2p4397.npy'),\n",
       " PosixPath('/trabajo/FNOs/gad_64/gadget1/delta_z3p2261.npy'),\n",
       " PosixPath('/trabajo/FNOs/gad_64/gadget1/delta_z4p1922.npy'),\n",
       " PosixPath('/trabajo/FNOs/gad_64/gadget1/delta_z5p3793.npy'),\n",
       " PosixPath('/trabajo/FNOs/gad_64/gadget1/delta_z6p8378.npy'),\n",
       " PosixPath('/trabajo/FNOs/gad_64/gadget1/delta_z8p6297.npy'),\n",
       " PosixPath('/trabajo/FNOs/gad_64/gadget1/delta_z10p8314.npy'),\n",
       " PosixPath('/trabajo/FNOs/gad_64/gadget1/delta_z13p5364.npy'),\n",
       " PosixPath('/trabajo/FNOs/gad_64/gadget1/delta_z16p8597.npy'),\n",
       " PosixPath('/trabajo/FNOs/gad_64/gadget1/delta_z20p9428.npy'),\n",
       " PosixPath('/trabajo/FNOs/gad_64/gadget1/delta_z25p9593.npy'),\n",
       " PosixPath('/trabajo/FNOs/gad_64/gadget1/delta_z32p1236.npy'),\n",
       " PosixPath('/trabajo/FNOs/gad_64/gadget1/delta_z39p6951.npy')]"
      ]
     },
     "execution_count": 21,
     "metadata": {},
     "output_type": "execute_result"
    }
   ],
   "source": [
    "data_folder = Path('/trabajo/FNOs/gad_64/gadget1')\n",
    "data_files = natsorted(list(data_folder.glob('*.npy')))\n",
    "data_files"
   ]
  },
  {
   "cell_type": "code",
   "execution_count": 32,
   "id": "391986f7",
   "metadata": {},
   "outputs": [
    {
     "data": {
      "text/plain": [
       "[(0, 1),\n",
       " (1, 2),\n",
       " (2, 3),\n",
       " (3, 4),\n",
       " (4, 5),\n",
       " (5, 6),\n",
       " (6, 7),\n",
       " (7, 8),\n",
       " (8, 9),\n",
       " (9, 10),\n",
       " (10, 11),\n",
       " (11, 12),\n",
       " (12, 13),\n",
       " (13, 14),\n",
       " (14, 15),\n",
       " (15, 16),\n",
       " (16, 17),\n",
       " (17, 18)]"
      ]
     },
     "execution_count": 32,
     "metadata": {},
     "output_type": "execute_result"
    }
   ],
   "source": [
    "# Make sequential pairs [(0,1), (1,2), ...]\n",
    "pairs = [(i, i+1) for i in range(len(data_files)-1)]\n",
    "pairs"
   ]
  }
 ],
 "metadata": {
  "kernelspec": {
   "display_name": ".venv",
   "language": "python",
   "name": "python3"
  },
  "language_info": {
   "codemirror_mode": {
    "name": "ipython",
    "version": 3
   },
   "file_extension": ".py",
   "mimetype": "text/x-python",
   "name": "python",
   "nbconvert_exporter": "python",
   "pygments_lexer": "ipython3",
   "version": "3.12.9"
  }
 },
 "nbformat": 4,
 "nbformat_minor": 5
}
